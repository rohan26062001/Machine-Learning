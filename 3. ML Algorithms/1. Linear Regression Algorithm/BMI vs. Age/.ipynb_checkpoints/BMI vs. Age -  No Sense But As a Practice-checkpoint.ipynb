{
 "cells": [
  {
   "cell_type": "code",
   "execution_count": 4,
   "id": "edc98b1a",
   "metadata": {},
   "outputs": [
    {
     "name": "stdout",
     "output_type": "stream",
     "text": [
      "(700, 2)\n"
     ]
    },
    {
     "data": {
      "text/plain": [
       "x    float64\n",
       "y    float64\n",
       "dtype: object"
      ]
     },
     "execution_count": 4,
     "metadata": {},
     "output_type": "execute_result"
    }
   ],
   "source": [
    "# Importing Libraries\n",
    "import numpy as np\n",
    "import pandas as pd\n",
    "import matplotlib.pyplot as plt\n",
    "\n",
    "# Loading data\n",
    "df = pd.read_csv('train.csv')\n",
    "print(df.shape)\n",
    "df.head()"
   ]
  },
  {
   "cell_type": "code",
   "execution_count": 7,
   "id": "832123f5",
   "metadata": {},
   "outputs": [
    {
     "name": "stdout",
     "output_type": "stream",
     "text": [
      "54.98593909881429\n",
      "nan\n"
     ]
    }
   ],
   "source": [
    "# Defining Variables\n",
    "X = df['x'].values\n",
    "Y = df['y'].values\n",
    "\n",
    "# Calculating Size\n",
    "n = len(X)\n",
    "\n",
    "# Calculating Mean of x and y\n",
    "mean_x = np.mean(X)\n",
    "mean_y = np.mean(Y)\n",
    "print(mean_x)\n",
    "\n",
    "# Calculating 'm' and 'c'\n",
    "num = 0\n",
    "den = 0\n",
    "for i in range (n):\n",
    "    num += (X[i] - mean_x)*(Y[i] - mean_y)\n",
    "    den += (X[i] - mean_x)**2\n",
    "\n",
    "m = num/den\n",
    "c = mean_y - (m*mean_x)"
   ]
  },
  {
   "cell_type": "code",
   "execution_count": null,
   "id": "dab51fec",
   "metadata": {},
   "outputs": [],
   "source": []
  },
  {
   "cell_type": "code",
   "execution_count": null,
   "id": "95ca1f9a",
   "metadata": {},
   "outputs": [],
   "source": []
  },
  {
   "cell_type": "code",
   "execution_count": null,
   "id": "ae31677e",
   "metadata": {},
   "outputs": [],
   "source": []
  }
 ],
 "metadata": {
  "kernelspec": {
   "display_name": "Python 3 (ipykernel)",
   "language": "python",
   "name": "python3"
  },
  "language_info": {
   "codemirror_mode": {
    "name": "ipython",
    "version": 3
   },
   "file_extension": ".py",
   "mimetype": "text/x-python",
   "name": "python",
   "nbconvert_exporter": "python",
   "pygments_lexer": "ipython3",
   "version": "3.9.4"
  }
 },
 "nbformat": 4,
 "nbformat_minor": 5
}
