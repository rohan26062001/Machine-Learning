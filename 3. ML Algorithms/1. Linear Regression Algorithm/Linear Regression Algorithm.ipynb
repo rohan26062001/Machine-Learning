{
 "cells": [
  {
   "cell_type": "markdown",
   "id": "34bd9d26",
   "metadata": {},
   "source": [
    "# Linear Regression Algorithm - House Price Prediction"
   ]
  },
  {
   "cell_type": "markdown",
   "id": "4629ad1f",
   "metadata": {},
   "source": [
    "## Importing Libraries"
   ]
  },
  {
   "cell_type": "code",
   "execution_count": 1,
   "id": "d79cf087",
   "metadata": {},
   "outputs": [],
   "source": [
    "import numpy as np\n",
    "import pandas as pd\n",
    "import matplotlib.pyplot as plt"
   ]
  },
  {
   "cell_type": "markdown",
   "id": "82adac39",
   "metadata": {},
   "source": [
    "## Loading Data"
   ]
  },
  {
   "cell_type": "code",
   "execution_count": 2,
   "id": "b4831431",
   "metadata": {},
   "outputs": [
    {
     "name": "stdout",
     "output_type": "stream",
     "text": [
      "      No  X1 transaction date  X2 house age  \\\n",
      "0      1             2012.917          32.0   \n",
      "1      2             2012.917          19.5   \n",
      "2      3             2013.583          13.3   \n",
      "3      4             2013.500          13.3   \n",
      "4      5             2012.833           5.0   \n",
      "..   ...                  ...           ...   \n",
      "409  410             2013.000          13.7   \n",
      "410  411             2012.667           5.6   \n",
      "411  412             2013.250          18.8   \n",
      "412  413             2013.000           8.1   \n",
      "413  414             2013.500           6.5   \n",
      "\n",
      "     X3 distance to the nearest MRT station  X4 number of convenience stores  \\\n",
      "0                                  84.87882                               10   \n",
      "1                                 306.59470                                9   \n",
      "2                                 561.98450                                5   \n",
      "3                                 561.98450                                5   \n",
      "4                                 390.56840                                5   \n",
      "..                                      ...                              ...   \n",
      "409                              4082.01500                                0   \n",
      "410                                90.45606                                9   \n",
      "411                               390.96960                                7   \n",
      "412                               104.81010                                5   \n",
      "413                                90.45606                                9   \n",
      "\n",
      "     X5 latitude  X6 longitude  Y house price of unit area  \n",
      "0       24.98298     121.54024                        37.9  \n",
      "1       24.98034     121.53951                        42.2  \n",
      "2       24.98746     121.54391                        47.3  \n",
      "3       24.98746     121.54391                        54.8  \n",
      "4       24.97937     121.54245                        43.1  \n",
      "..           ...           ...                         ...  \n",
      "409     24.94155     121.50381                        15.4  \n",
      "410     24.97433     121.54310                        50.0  \n",
      "411     24.97923     121.53986                        40.6  \n",
      "412     24.96674     121.54067                        52.5  \n",
      "413     24.97433     121.54310                        63.9  \n",
      "\n",
      "[414 rows x 8 columns]\n"
     ]
    }
   ],
   "source": [
    "data = pd.read_csv('dataset_realestate.csv')\n",
    "print(data)"
   ]
  },
  {
   "cell_type": "code",
   "execution_count": 3,
   "id": "e5158c7b",
   "metadata": {},
   "outputs": [],
   "source": [
    "X=data['X2 house age']\n",
    "Y=data['Y house price of unit area']"
   ]
  },
  {
   "cell_type": "markdown",
   "id": "ee84afbe",
   "metadata": {},
   "source": [
    "## Estimation of Co-efficients"
   ]
  },
  {
   "cell_type": "code",
   "execution_count": 4,
   "id": "4440d8fd",
   "metadata": {},
   "outputs": [
    {
     "name": "stdout",
     "output_type": "stream",
     "text": [
      "17.71256038647343 37.980193236714975\n"
     ]
    }
   ],
   "source": [
    "x_bar = np.mean(X)\n",
    "y_bar = np.mean(Y)\n",
    "\n",
    "print(x_bar, y_bar)"
   ]
  },
  {
   "cell_type": "code",
   "execution_count": 5,
   "id": "fc1829bf",
   "metadata": {},
   "outputs": [],
   "source": [
    "n = np.size(X)"
   ]
  },
  {
   "cell_type": "code",
   "execution_count": 6,
   "id": "b643a3e3",
   "metadata": {},
   "outputs": [],
   "source": [
    "SS_xy = np.sum(Y*X) - n*y_bar*x_bar\n",
    "SS_xx = np.sum(X*X) - n*x_bar*x_bar"
   ]
  },
  {
   "cell_type": "code",
   "execution_count": 7,
   "id": "1dff1dc0",
   "metadata": {},
   "outputs": [
    {
     "name": "stdout",
     "output_type": "stream",
     "text": [
      "-0.25148841908534597 42.434697046262905\n"
     ]
    }
   ],
   "source": [
    "b1 = SS_xy / SS_xx\n",
    "b0 = y_bar - b1*x_bar\n",
    "\n",
    "print(b1, b0)"
   ]
  },
  {
   "cell_type": "markdown",
   "id": "6b437d89",
   "metadata": {},
   "source": [
    "## Plotting Regression Line"
   ]
  },
  {
   "cell_type": "code",
   "execution_count": 8,
   "id": "4072084a",
   "metadata": {},
   "outputs": [
    {
     "data": {
      "image/png": "[encoded data removed]",
      "text/plain": [
       "<Figure size 432x288 with 1 Axes>"
      ]
     },
     "metadata": {
      "needs_background": "light"
     },
     "output_type": "display_data"
    }
   ],
   "source": [
    "# plotting the actual points as scatter plot\n",
    "plt.scatter(X, Y, color = \"m\", marker = \"o\", s = 30)\n",
    "\n",
    "# predicted response vector\n",
    "y_pred = b0 + b1*X\n",
    "\n",
    "# plotting the regression line\n",
    "plt.plot(X, y_pred, color = \"g\")\n",
    "\n",
    "# putting labels\n",
    "plt.xlabel('x')\n",
    "plt.ylabel('y')\n",
    "\n",
    "# function to show plot\n",
    "plt.show()"
   ]
  },
  {
   "cell_type": "code",
   "execution_count": null,
   "id": "a20aa80d",
   "metadata": {},
   "outputs": [],
   "source": []
  }
 ],
 "metadata": {
  "kernelspec": {
   "display_name": "Python 3 (ipykernel)",
   "language": "python",
   "name": "python3"
  },
  "language_info": {
   "codemirror_mode": {
    "name": "ipython",
    "version": 3
   },
   "file_extension": ".py",
   "mimetype": "text/x-python",
   "name": "python",
   "nbconvert_exporter": "python",
   "pygments_lexer": "ipython3",
   "version": "3.9.4"
  }
 },
 "nbformat": 4,
 "nbformat_minor": 5
}
