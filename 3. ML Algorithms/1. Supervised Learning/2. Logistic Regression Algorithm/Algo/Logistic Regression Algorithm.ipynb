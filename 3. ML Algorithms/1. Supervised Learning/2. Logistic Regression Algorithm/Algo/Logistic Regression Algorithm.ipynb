{
 "cells": [
  {
   "cell_type": "markdown",
   "id": "084ec2b4",
   "metadata": {},
   "source": [
    "# Logistic Regression Tutorial"
   ]
  },
  {
   "cell_type": "markdown",
   "id": "9025342a",
   "metadata": {},
   "source": [
    "<ul>\n",
    "    <li>Logistic regression predicts the output of a categorical dependent variable. Therefore the outcome must be a categorical or discrete value. It can be either Yes or No, 0 or 1, true or False, etc. but instead of giving the exact value as 0 and 1, it gives the probabilistic values which lie between 0 and 1.</li>\n",
    "    <li>Logistic Regression is much similar to the Linear Regression except that how they are used. Linear Regression is used for solving Regression problems, whereas Logistic regression is used for solving the classification problems.</li>\n",
    "</ul> "
   ]
  },
  {
   "cell_type": "markdown",
   "id": "856293b1",
   "metadata": {},
   "source": [
    "# Steps of Logistic Regression\n",
    "\n",
    "<ul>\n",
    "    <li>Data Pre-processing step</li>\n",
    "    <li>Fitting Logistic Regression to the Training set</li>\n",
    "    <li>Predicting the test result</li>\n",
    "    <li>Test accuracy of the result(Creation of Confusion matrix)</li>\n",
    "    <li>Visualizing the test set result</li>\n",
    "</ul>"
   ]
  },
  {
   "cell_type": "markdown",
   "id": "75f25fac",
   "metadata": {},
   "source": [
    "### Step 1 -  Data Pre-processing Step"
   ]
  },
  {
   "cell_type": "code",
   "execution_count": 1,
   "id": "d04e68e0",
   "metadata": {},
   "outputs": [
    {
     "name": "stdout",
     "output_type": "stream",
     "text": [
      "(400, 5)\n"
     ]
    },
    {
     "data": {
      "text/html": [
       "<div>\n",
       "<style scoped>\n",
       "    .dataframe tbody tr th:only-of-type {\n",
       "        vertical-align: middle;\n",
       "    }\n",
       "\n",
       "    .dataframe tbody tr th {\n",
       "        vertical-align: top;\n",
       "    }\n",
       "\n",
       "    .dataframe thead th {\n",
       "        text-align: right;\n",
       "    }\n",
       "</style>\n",
       "<table border=\"1\" class=\"dataframe\">\n",
       "  <thead>\n",
       "    <tr style=\"text-align: right;\">\n",
       "      <th></th>\n",
       "      <th>User ID</th>\n",
       "      <th>Gender</th>\n",
       "      <th>Age</th>\n",
       "      <th>EstimatedSalary</th>\n",
       "      <th>Purchased</th>\n",
       "    </tr>\n",
       "  </thead>\n",
       "  <tbody>\n",
       "    <tr>\n",
       "      <th>0</th>\n",
       "      <td>15624510</td>\n",
       "      <td>Male</td>\n",
       "      <td>19</td>\n",
       "      <td>19000</td>\n",
       "      <td>0</td>\n",
       "    </tr>\n",
       "    <tr>\n",
       "      <th>1</th>\n",
       "      <td>15810944</td>\n",
       "      <td>Male</td>\n",
       "      <td>35</td>\n",
       "      <td>20000</td>\n",
       "      <td>0</td>\n",
       "    </tr>\n",
       "    <tr>\n",
       "      <th>2</th>\n",
       "      <td>15668575</td>\n",
       "      <td>Female</td>\n",
       "      <td>26</td>\n",
       "      <td>43000</td>\n",
       "      <td>0</td>\n",
       "    </tr>\n",
       "    <tr>\n",
       "      <th>3</th>\n",
       "      <td>15603246</td>\n",
       "      <td>Female</td>\n",
       "      <td>27</td>\n",
       "      <td>57000</td>\n",
       "      <td>0</td>\n",
       "    </tr>\n",
       "    <tr>\n",
       "      <th>4</th>\n",
       "      <td>15804002</td>\n",
       "      <td>Male</td>\n",
       "      <td>19</td>\n",
       "      <td>76000</td>\n",
       "      <td>0</td>\n",
       "    </tr>\n",
       "  </tbody>\n",
       "</table>\n",
       "</div>"
      ],
      "text/plain": [
       "    User ID  Gender  Age  EstimatedSalary  Purchased\n",
       "0  15624510    Male   19            19000          0\n",
       "1  15810944    Male   35            20000          0\n",
       "2  15668575  Female   26            43000          0\n",
       "3  15603246  Female   27            57000          0\n",
       "4  15804002    Male   19            76000          0"
      ]
     },
     "execution_count": 1,
     "metadata": {},
     "output_type": "execute_result"
    }
   ],
   "source": [
    "# Importing Libraries  \n",
    "import numpy as nm  \n",
    "import matplotlib.pyplot as mtp  \n",
    "import pandas as pd  \n",
    "  \n",
    "# Importing Datasets  \n",
    "data= pd.read_csv('user_data.csv')\n",
    "\n",
    "print(data.shape)\n",
    "data.head(5)"
   ]
  },
  {
   "cell_type": "code",
   "execution_count": 2,
   "id": "8996a215",
   "metadata": {},
   "outputs": [],
   "source": [
    "# Extracting Independent and dependent Variable\n",
    "X = data.iloc[:, [2,3]].values\n",
    "y = data.iloc[:, 4].values"
   ]
  },
  {
   "cell_type": "code",
   "execution_count": 3,
   "id": "768d6c2f",
   "metadata": {},
   "outputs": [],
   "source": [
    "# Splitting the dataset into training and test set.  \n",
    "from sklearn.model_selection import train_test_split  \n",
    "X_train, X_test, y_train, y_test= train_test_split(X, y, test_size= 0.2)"
   ]
  },
  {
   "cell_type": "markdown",
   "id": "27c73bc5",
   "metadata": {},
   "source": [
    "<p>In logistic regression, we will do feature scaling because we want accurate result of predictions. Here we will only scale the independent variable because dependent variable have only 0 and 1 values. Below is the code for it:</p>"
   ]
  },
  {
   "cell_type": "code",
   "execution_count": 4,
   "id": "c80226dd",
   "metadata": {},
   "outputs": [],
   "source": [
    "# Feature Scaling  \n",
    "from sklearn.preprocessing import StandardScaler    \n",
    "st_x= StandardScaler()    \n",
    "X_train= st_x.fit_transform(X_train)    \n",
    "X_test= st_x.transform(X_test)"
   ]
  },
  {
   "cell_type": "markdown",
   "id": "ba1c579a",
   "metadata": {},
   "source": [
    "### Step 2 - Fitting Logistic Regression to the Training Set"
   ]
  },
  {
   "cell_type": "code",
   "execution_count": 5,
   "id": "76991c21",
   "metadata": {},
   "outputs": [
    {
     "data": {
      "text/plain": [
       "LogisticRegression(random_state=0)"
      ]
     },
     "execution_count": 5,
     "metadata": {},
     "output_type": "execute_result"
    }
   ],
   "source": [
    "#Fitting Logistic Regression to the training set  \n",
    "from sklearn.linear_model import LogisticRegression  \n",
    "classifier= LogisticRegression(random_state=0)  \n",
    "classifier.fit(X_train, y_train)  "
   ]
  },
  {
   "cell_type": "markdown",
   "id": "0adb76f6",
   "metadata": {},
   "source": [
    "### Step 3 - Predicting The Test Result"
   ]
  },
  {
   "cell_type": "code",
   "execution_count": 6,
   "id": "ad1006d8",
   "metadata": {},
   "outputs": [],
   "source": [
    "#Predicting the test set result  \n",
    "y_pred= classifier.predict(X_test)"
   ]
  },
  {
   "cell_type": "markdown",
   "id": "68d1db2f",
   "metadata": {},
   "source": [
    "### Step 4 - Test Accuracy of The Result (Creation of Confusion matrix)"
   ]
  },
  {
   "cell_type": "code",
   "execution_count": 7,
   "id": "803dd5aa",
   "metadata": {},
   "outputs": [
    {
     "data": {
      "text/plain": [
       "0.8375"
      ]
     },
     "execution_count": 7,
     "metadata": {},
     "output_type": "execute_result"
    }
   ],
   "source": [
    "#Creating the Confusion matrix  \n",
    "from sklearn.metrics import confusion_matrix  \n",
    "cm= confusion_matrix(y_test, y_pred)\n",
    "\n",
    "from sklearn.metrics import accuracy_score\n",
    "scores = classifier.score(X_test, y_test)\n",
    "\n",
    "pred = classifier.predict(X_test)\n",
    "accuracy_score(y_test, pred)"
   ]
  },
  {
   "cell_type": "markdown",
   "id": "ba2ba75a",
   "metadata": {},
   "source": [
    "### Step 5 - Visualizing The Test Set Result "
   ]
  },
  {
   "cell_type": "code",
   "execution_count": 8,
   "id": "edcac7a8",
   "metadata": {},
   "outputs": [
    {
     "name": "stderr",
     "output_type": "stream",
     "text": [
      "*c* argument looks like a single numeric RGB or RGBA sequence, which should be avoided as value-mapping will have precedence in case its length matches with *x* & *y*.  Please use the *color* keyword-argument or provide a 2D array with a single row if you intend to specify the same RGB or RGBA value for all points.\n",
      "*c* argument looks like a single numeric RGB or RGBA sequence, which should be avoided as value-mapping will have precedence in case its length matches with *x* & *y*.  Please use the *color* keyword-argument or provide a 2D array with a single row if you intend to specify the same RGB or RGBA value for all points.\n"
     ]
    },
    {
     "data": {
      "image/png": "[encoded data removed]",
      "text/plain": [
       "<Figure size 432x288 with 1 Axes>"
      ]
     },
     "metadata": {
      "needs_background": "light"
     },
     "output_type": "display_data"
    }
   ],
   "source": [
    "#Visualizing the training set result  \n",
    "from matplotlib.colors import ListedColormap  \n",
    "x_set, y_set = X_train, y_train  \n",
    "x1, x2 = nm.meshgrid(nm.arange(start = x_set[:, 0].min() - 1, stop = x_set[:, 0].max() + 1, step  =0.01),  \n",
    "nm.arange(start = x_set[:, 1].min() - 1, stop = x_set[:, 1].max() + 1, step = 0.01))  \n",
    "mtp.contourf(x1, x2, classifier.predict(nm.array([x1.ravel(), x2.ravel()]).T).reshape(x1.shape),  \n",
    "alpha = 0.75, cmap = ListedColormap(('red','blue' )))  \n",
    "mtp.xlim(x1.min(), x1.max())  \n",
    "mtp.ylim(x2.min(), x2.max())  \n",
    "for i, j in enumerate(nm.unique(y_set)):  \n",
    "    mtp.scatter(x_set[y_set == j, 0], x_set[y_set == j, 1],  \n",
    "        c = ListedColormap(('red','blue'))(i), label = j)\n",
    "    c=np.array([color])\n",
    "mtp.title('Logistic Regression (Training set)')  \n",
    "mtp.xlabel('Age')  \n",
    "mtp.ylabel('Estimated Salary')  \n",
    "mtp.legend()  \n",
    "mtp.show()  "
   ]
  },
  {
   "cell_type": "code",
   "execution_count": null,
   "id": "b20425b0",
   "metadata": {},
   "outputs": [],
   "source": []
  }
 ],
 "metadata": {
  "kernelspec": {
   "display_name": "Python 3 (ipykernel)",
   "language": "python",
   "name": "python3"
  },
  "language_info": {
   "codemirror_mode": {
    "name": "ipython",
    "version": 3
   },
   "file_extension": ".py",
   "mimetype": "text/x-python",
   "name": "python",
   "nbconvert_exporter": "python",
   "pygments_lexer": "ipython3",
   "version": "3.9.4"
  }
 },
 "nbformat": 4,
 "nbformat_minor": 5
}
